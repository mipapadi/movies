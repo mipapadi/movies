{
 "cells": [
  {
   "cell_type": "markdown",
   "metadata": {},
   "source": [
    "# Movies Project\n",
    "### \"An attempt to find data correlations\""
   ]
  },
  {
   "cell_type": "markdown",
   "metadata": {},
   "source": [
    "#### Import libraries and dataset"
   ]
  },
  {
   "cell_type": "code",
   "execution_count": 1,
   "metadata": {},
   "outputs": [],
   "source": [
    "# Import libraries\n",
    "import pandas as pd\n",
    "import numpy as np\n",
    "import seaborn as sns\n",
    "\n",
    "import matplotlib\n",
    "from matplotlib import pyplot as plt\n",
    "plt.style.use('ggplot')\n",
    "from matplotlib.pyplot import figure as fig\n",
    "\n",
    "%matplotlib inline\n",
    "matplotlib.rcParams['figure.figsize'] = (12, 8) #Plots configuration adjustment\n",
    "\n",
    "import os\n",
    "\n",
    "import re"
   ]
  },
  {
   "cell_type": "code",
   "execution_count": 2,
   "metadata": {},
   "outputs": [],
   "source": [
    "# We get present working directory in order to have an independent notebook\n",
    "pwd = os.getcwd()"
   ]
  },
  {
   "cell_type": "code",
   "execution_count": 3,
   "metadata": {},
   "outputs": [],
   "source": [
    "# Reading data\n",
    "df = pd.read_csv(pwd + '\\\\movies.csv')"
   ]
  },
  {
   "cell_type": "code",
   "execution_count": 4,
   "metadata": {},
   "outputs": [],
   "source": [
    "pd.set_option('display.max_rows', 200)"
   ]
  },
  {
   "cell_type": "markdown",
   "metadata": {},
   "source": [
    "#### Fix missing values"
   ]
  },
  {
   "cell_type": "code",
   "execution_count": null,
   "metadata": {},
   "outputs": [],
   "source": [
    "# First look at the data\n",
    "df.head()\n",
    "# df.columns"
   ]
  },
  {
   "cell_type": "code",
   "execution_count": null,
   "metadata": {},
   "outputs": [],
   "source": [
    "# Check for null values\n",
    "for col in df.columns:\n",
    "    missing_percentage = np.mean(df[col].isnull())\n",
    "    print(f'{col} - {missing_percentage}%')"
   ]
  },
  {
   "cell_type": "code",
   "execution_count": 7,
   "metadata": {},
   "outputs": [],
   "source": [
    "# Now we remove all rows, that have more than 3 null values. 26 movies\n",
    "df.dropna(thresh=13, inplace=True)\n",
    "df.reset_index(inplace=True)\n",
    "df.drop(columns=['index'], inplace=True)"
   ]
  },
  {
   "cell_type": "code",
   "execution_count": 8,
   "metadata": {},
   "outputs": [],
   "source": [
    "# We can also propagate non-null values forward and fill the dataset\n",
    "df.fillna(method='ffill', inplace=True)"
   ]
  },
  {
   "cell_type": "code",
   "execution_count": null,
   "metadata": {},
   "outputs": [],
   "source": [
    "# No null values anymore\n",
    "df.isnull().sum()"
   ]
  },
  {
   "cell_type": "markdown",
   "metadata": {},
   "source": [
    "#### Clean data"
   ]
  },
  {
   "cell_type": "code",
   "execution_count": null,
   "metadata": {},
   "outputs": [],
   "source": [
    "# Check data types\n",
    "df.dtypes"
   ]
  },
  {
   "cell_type": "code",
   "execution_count": 11,
   "metadata": {},
   "outputs": [],
   "source": [
    "# We use regular expressions, in order to find the year in string and return it\n",
    "def pick_year(string):\n",
    "    match = re.findall(r'.*([1-3][0-9]{3})', string)\n",
    "    year = str(match[0])\n",
    "    return year"
   ]
  },
  {
   "cell_type": "code",
   "execution_count": 12,
   "metadata": {},
   "outputs": [],
   "source": [
    "# pick_year function needs string\n",
    "df['released'] = df['released'].astype('string')"
   ]
  },
  {
   "cell_type": "code",
   "execution_count": 13,
   "metadata": {},
   "outputs": [],
   "source": [
    "# We notice that the years in df['year'] sometimes are not the same as the years in df['released']\n",
    "# So we create new column with correct years\n",
    "df['temp'] = df['released'].apply(pick_year)\n",
    "df['temp'] = df['temp'].astype('string')"
   ]
  },
  {
   "cell_type": "code",
   "execution_count": 14,
   "metadata": {},
   "outputs": [],
   "source": [
    "# Delete old year column with wrong values and set as year the new test column with correct values \n",
    "df.drop(columns=['year'], inplace=True)\n",
    "df.rename(columns={'temp' : 'year'}, inplace=True)\n"
   ]
  },
  {
   "cell_type": "code",
   "execution_count": 15,
   "metadata": {},
   "outputs": [],
   "source": [
    "# Correct data types. No need for floats\n",
    "df['budget'] = df['budget'].astype('int64')\n",
    "df['gross'] = df['gross'].astype('int64')"
   ]
  },
  {
   "cell_type": "code",
   "execution_count": 16,
   "metadata": {},
   "outputs": [],
   "source": [
    "#Rearrange columns as it was \n",
    "cols = df.columns.tolist()\n",
    "cols = cols[0:3] + cols[-1:] + cols[3:-1]\n",
    "df = df[cols]"
   ]
  },
  {
   "cell_type": "code",
   "execution_count": 17,
   "metadata": {},
   "outputs": [],
   "source": [
    "# Similar to ORDER BY gross\n",
    "df.sort_values(by=['gross'], ascending=False, inplace=True)\n",
    "df.reset_index(inplace=True)\n",
    "df.drop(columns=['index'], inplace=True)"
   ]
  },
  {
   "cell_type": "code",
   "execution_count": null,
   "metadata": {},
   "outputs": [],
   "source": [
    "# Remove duplicates if exist\n",
    "# df['company'].drop_duplicates().sort_values(ascending=False)"
   ]
  },
  {
   "cell_type": "markdown",
   "metadata": {},
   "source": [
    "#### Data correlations with gross"
   ]
  },
  {
   "cell_type": "code",
   "execution_count": null,
   "metadata": {},
   "outputs": [],
   "source": [
    "# Start looking at correlation\n",
    "df.corr(method= 'pearson') \n",
    "# df.corr(method= 'kendall') \n",
    "# df.corr(method= 'spearman') "
   ]
  },
  {
   "cell_type": "code",
   "execution_count": 20,
   "metadata": {},
   "outputs": [],
   "source": [
    "# Set a nice dark theme\n",
    "sns.set_theme(style=\"darkgrid\")"
   ]
  },
  {
   "cell_type": "code",
   "execution_count": null,
   "metadata": {},
   "outputs": [],
   "source": [
    "# Scatter plot budget vs gross with matplotlib\n",
    "plt.scatter(x=df['budget'], y=df['gross'], color='purple',)\n",
    "plt.title('Budget vs Gross Earnings', fontweight='bold')\n",
    "plt.xlabel('Gross Earnings')\n",
    "plt.ylabel('Budget For Film')\n",
    "# plt.show"
   ]
  },
  {
   "cell_type": "code",
   "execution_count": null,
   "metadata": {},
   "outputs": [],
   "source": [
    "# Scatter plot budget vs gross with seaborn\n",
    "sns.regplot(x='budget', y='gross', data=df, scatter_kws={'color': 'black'}, line_kws={'color': 'orange'}).set_title('Budget vs Gross Earnings', fontweight='bold')\n",
    "plt.xlabel('Gross Earnings')\n",
    "plt.ylabel('Budget For Film')"
   ]
  },
  {
   "cell_type": "code",
   "execution_count": null,
   "metadata": {},
   "outputs": [],
   "source": [
    "# We notice that there is high correlation between budget and gross\n",
    "cor_mtrx = df.corr(method= 'pearson')\n",
    "sns.heatmap(cor_mtrx, annot=True).set_title('Correlation Matrix For Numeric Features', fontweight='bold')\n",
    "plt.xlabel('Movie Features')\n",
    "plt.ylabel('Movie Features')"
   ]
  },
  {
   "cell_type": "code",
   "execution_count": null,
   "metadata": {},
   "outputs": [],
   "source": [
    "# We believe that there is high correlation between the company and the gross\n",
    "# So we will try to numerize companies with a temporary dataframe for safety reasons\n",
    "num_df = df.copy()\n",
    "\n",
    "for col in num_df.columns:\n",
    "    if(num_df[col].dtype == 'object'):\n",
    "        num_df[col] = num_df[col].astype('category')\n",
    "        num_df[col] = num_df[col].cat.codes\n",
    "        \n",
    "num_df"
   ]
  },
  {
   "cell_type": "code",
   "execution_count": null,
   "metadata": {},
   "outputs": [],
   "source": [
    "# We see the correlation between the company and the gross\n",
    "cor_mtrx_2 = num_df.corr(method= 'pearson')\n",
    "sns.heatmap(cor_mtrx_2, annot=True).set_title('Correlation Matrix For Numeric Features', fontweight='bold')\n",
    "plt.xlabel('Movie Features')\n",
    "plt.ylabel('Movie Features')"
   ]
  },
  {
   "cell_type": "code",
   "execution_count": null,
   "metadata": {},
   "outputs": [],
   "source": [
    "# Try to find correlations\n",
    "cor_mtx_2 = num_df.corr(method='pearson')\n",
    "cor_pairs = cor_mtx_2.unstack()\n",
    "sorted_pairs = cor_pairs.sort_values()\n",
    "sorted_pairs"
   ]
  },
  {
   "cell_type": "code",
   "execution_count": null,
   "metadata": {},
   "outputs": [],
   "source": [
    "# As we see there is no significant correlation between gross and company \n",
    "# Finally budget and votes have the highest correlation with gross earnings\n",
    "high_cor = sorted_pairs[(sorted_pairs) > 0.5]\n",
    "high_cor"
   ]
  }
 ],
 "metadata": {
  "interpreter": {
   "hash": "dc5ff31af0cf5e6a8c622a3c43d12676fbeb569d61dd49525af6e4757f9b82e7"
  },
  "kernelspec": {
   "display_name": "Python 3.10.2 64-bit",
   "language": "python",
   "name": "python3"
  },
  "language_info": {
   "codemirror_mode": {
    "name": "ipython",
    "version": 3
   },
   "file_extension": ".py",
   "mimetype": "text/x-python",
   "name": "python",
   "nbconvert_exporter": "python",
   "pygments_lexer": "ipython3",
   "version": "3.10.2"
  },
  "orig_nbformat": 4
 },
 "nbformat": 4,
 "nbformat_minor": 2
}
